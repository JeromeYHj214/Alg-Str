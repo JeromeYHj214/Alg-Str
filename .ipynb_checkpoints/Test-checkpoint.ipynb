{
 "cells": [
  {
   "cell_type": "markdown",
   "metadata": {},
   "source": [
    "## 程序计时"
   ]
  },
  {
   "cell_type": "code",
   "execution_count": 1,
   "metadata": {},
   "outputs": [],
   "source": [
    "import time\n",
    "import datetime\n",
    "# 测试函数运行时间\n",
    "def cal_time(fn):\n",
    "    \"\"\"计算性能的修饰器\"\"\"\n",
    "    def wrapper(*args,**kwargs):\n",
    "        starTime = time.time()\n",
    "        f = fn(*args,**kwargs)\n",
    "        endTime = time.time()\n",
    "        print('%s() runtime:%s ms' % (fn.__name__, 1000*(endTime - starTime)))\n",
    "        return f\n",
    "    return wrapper"
   ]
  },
  {
   "cell_type": "markdown",
   "metadata": {},
   "source": [
    "## 汉诺塔问题（递归）"
   ]
  },
  {
   "cell_type": "code",
   "execution_count": 4,
   "metadata": {},
   "outputs": [],
   "source": [
    "def hanio(n,a,b,c):\n",
    "    if n >0:\n",
    "        hanio(n-1,a,c,b)\n",
    "        print(\"moving from %s to %s\"%(a,c))\n",
    "        hanio(n-1,b,a,c)"
   ]
  },
  {
   "cell_type": "code",
   "execution_count": 5,
   "metadata": {},
   "outputs": [
    {
     "name": "stdout",
     "output_type": "stream",
     "text": [
      "moving from A to c\n",
      "moving from A to B\n",
      "moving from c to B\n",
      "moving from A to c\n",
      "moving from B to A\n",
      "moving from B to c\n",
      "moving from A to c\n"
     ]
    }
   ],
   "source": [
    "hanio(3,\"A\",\"B\",\"c\")"
   ]
  },
  {
   "cell_type": "markdown",
   "metadata": {},
   "source": [
    "## 二分法（列表需排好序）"
   ]
  },
  {
   "cell_type": "markdown",
   "metadata": {},
   "source": [
    "### 时间复杂度O(logn)"
   ]
  },
  {
   "cell_type": "code",
   "execution_count": 6,
   "metadata": {},
   "outputs": [],
   "source": [
    "#li必须排好序\n",
    "@cal_time #计时用\n",
    "def binary_search(li,val):  \n",
    "    left = 0\n",
    "    right = len(li) - 1\n",
    "    while left <= right:\n",
    "        mid = (left + right) // 2\n",
    "        if val == li[mid]:\n",
    "            return mid\n",
    "        elif val < li[mid]:\n",
    "            right = mid - 1\n",
    "        else:\n",
    "            left = right + 1\n",
    "    else:\n",
    "        return None"
   ]
  },
  {
   "cell_type": "code",
   "execution_count": 7,
   "metadata": {},
   "outputs": [],
   "source": [
    "li = list(range(100000))"
   ]
  },
  {
   "cell_type": "code",
   "execution_count": 8,
   "metadata": {},
   "outputs": [
    {
     "name": "stdout",
     "output_type": "stream",
     "text": [
      "binary_search() runtime:0.0 ms\n"
     ]
    }
   ],
   "source": [
    "binary_search(li,35410)"
   ]
  },
  {
   "cell_type": "markdown",
   "metadata": {},
   "source": [
    "## 顺序查找"
   ]
  },
  {
   "cell_type": "markdown",
   "metadata": {},
   "source": [
    "### 时间复杂度O(n)"
   ]
  },
  {
   "cell_type": "code",
   "execution_count": 9,
   "metadata": {},
   "outputs": [],
   "source": [
    "@cal_time #计时用\n",
    "def linear_search(li,val):\n",
    "    for ind, v in enumerate(li):\n",
    "        if val == v:\n",
    "            return ind\n",
    "    else:\n",
    "        return None"
   ]
  },
  {
   "cell_type": "code",
   "execution_count": 10,
   "metadata": {},
   "outputs": [
    {
     "name": "stdout",
     "output_type": "stream",
     "text": [
      "linear_search() runtime:1.9986629486083984 ms\n"
     ]
    },
    {
     "data": {
      "text/plain": [
       "35410"
      ]
     },
     "execution_count": 10,
     "metadata": {},
     "output_type": "execute_result"
    }
   ],
   "source": [
    "linear_search(li,35410)"
   ]
  },
  {
   "cell_type": "markdown",
   "metadata": {},
   "source": [
    "# 排序"
   ]
  },
  {
   "cell_type": "markdown",
   "metadata": {},
   "source": [
    "## 冒泡排序法"
   ]
  },
  {
   "cell_type": "markdown",
   "metadata": {},
   "source": [
    "### 算法复杂度O(n^2)"
   ]
  },
  {
   "cell_type": "code",
   "execution_count": 11,
   "metadata": {},
   "outputs": [],
   "source": [
    "@cal_time\n",
    "def bubble_sort(li):\n",
    "    for i in range(len(li)-1):\n",
    "        exchange = False\n",
    "        for j in range(len(li)-i-1):\n",
    "            if li[j] > li[j+1]:\n",
    "                li[j+1], li[j] = li[j], li[j+1]\n",
    "                exchange = True\n",
    "        print(li)\n",
    "        if exchange == False:\n",
    "            return"
   ]
  },
  {
   "cell_type": "markdown",
   "metadata": {},
   "source": [
    "### 若一次排序未发生变化，则整个列表排序完成"
   ]
  },
  {
   "cell_type": "code",
   "execution_count": 12,
   "metadata": {},
   "outputs": [],
   "source": [
    "li =[0,2,4,3,5,8,9]"
   ]
  },
  {
   "cell_type": "code",
   "execution_count": 13,
   "metadata": {},
   "outputs": [
    {
     "name": "stdout",
     "output_type": "stream",
     "text": [
      "[0, 2, 3, 4, 5, 8, 9]\n",
      "[0, 2, 3, 4, 5, 8, 9]\n",
      "bubble_sort() runtime:0.0 ms\n"
     ]
    }
   ],
   "source": [
    "bubble_sort(li)"
   ]
  },
  {
   "cell_type": "markdown",
   "metadata": {},
   "source": [
    "## 选择排序法"
   ]
  },
  {
   "cell_type": "code",
   "execution_count": 14,
   "metadata": {},
   "outputs": [],
   "source": [
    "@cal_time\n",
    "def select_sort_simple(li):\n",
    "    li_new = []\n",
    "    for i in range(len(li)):\n",
    "        min_val = min(li)\n",
    "        li_new.append(min_val)\n",
    "        li.remove(min_val)\n",
    "    return li_new"
   ]
  },
  {
   "cell_type": "code",
   "execution_count": 15,
   "metadata": {},
   "outputs": [],
   "source": [
    "li =[0,2,4,3,5,8,9,3,6,4]"
   ]
  },
  {
   "cell_type": "code",
   "execution_count": 16,
   "metadata": {},
   "outputs": [
    {
     "name": "stdout",
     "output_type": "stream",
     "text": [
      "select_sort_simple() runtime:0.0 ms\n"
     ]
    },
    {
     "data": {
      "text/plain": [
       "[0, 2, 3, 3, 4, 4, 5, 6, 8, 9]"
      ]
     },
     "execution_count": 16,
     "metadata": {},
     "output_type": "execute_result"
    }
   ],
   "source": [
    "select_sort_simple(li)"
   ]
  },
  {
   "cell_type": "code",
   "execution_count": 17,
   "metadata": {},
   "outputs": [],
   "source": [
    "@cal_time\n",
    "def select_sort(li):\n",
    "    for i in range(len(li)-1):\n",
    "        min_loc = i\n",
    "        for j in range(i+1,len(li)):\n",
    "            if li[j] < li[min_loc]:\n",
    "                min_loc = j\n",
    "        li[i], li[min_loc] = li[min_loc], li[i]\n",
    "        print(li)"
   ]
  },
  {
   "cell_type": "code",
   "execution_count": 18,
   "metadata": {},
   "outputs": [],
   "source": [
    "li =[0,2,4,3,5,8,9,3,6,4]"
   ]
  },
  {
   "cell_type": "code",
   "execution_count": 19,
   "metadata": {},
   "outputs": [
    {
     "name": "stdout",
     "output_type": "stream",
     "text": [
      "[0, 2, 4, 3, 5, 8, 9, 3, 6, 4]\n",
      "[0, 2, 4, 3, 5, 8, 9, 3, 6, 4]\n",
      "[0, 2, 3, 4, 5, 8, 9, 3, 6, 4]\n",
      "[0, 2, 3, 3, 5, 8, 9, 4, 6, 4]\n",
      "[0, 2, 3, 3, 4, 8, 9, 5, 6, 4]\n",
      "[0, 2, 3, 3, 4, 4, 9, 5, 6, 8]\n",
      "[0, 2, 3, 3, 4, 4, 5, 9, 6, 8]\n",
      "[0, 2, 3, 3, 4, 4, 5, 6, 9, 8]\n",
      "[0, 2, 3, 3, 4, 4, 5, 6, 8, 9]\n",
      "select_sort() runtime:0.9992122650146484 ms\n"
     ]
    }
   ],
   "source": [
    "select_sort(li)"
   ]
  },
  {
   "cell_type": "markdown",
   "metadata": {},
   "source": [
    "## 插入排序法"
   ]
  },
  {
   "cell_type": "code",
   "execution_count": null,
   "metadata": {},
   "outputs": [],
   "source": []
  }
 ],
 "metadata": {
  "kernelspec": {
   "display_name": "Python 3",
   "language": "python",
   "name": "python3"
  },
  "language_info": {
   "codemirror_mode": {
    "name": "ipython",
    "version": 3
   },
   "file_extension": ".py",
   "mimetype": "text/x-python",
   "name": "python",
   "nbconvert_exporter": "python",
   "pygments_lexer": "ipython3",
   "version": "3.7.6"
  }
 },
 "nbformat": 4,
 "nbformat_minor": 4
}
